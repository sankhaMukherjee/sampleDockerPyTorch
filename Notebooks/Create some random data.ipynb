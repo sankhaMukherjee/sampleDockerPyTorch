{
 "cells": [
  {
   "cell_type": "markdown",
   "id": "nervous-sight",
   "metadata": {},
   "source": [
    "# Create Random Data\n",
    "\n",
    "This is going to create data that can be used for training a model. The data is very simple. It will be created with a simple model:\n",
    "\n",
    "1. $\\mathbf y$ is an (N,1) vector\n",
    "2. $\\mathbf X$ is an (N,M) matrix, and\n",
    "3. $\\mathbf a$ is an (M,1) vector\n",
    "\n",
    "\\begin{equation}\n",
    "\\mathbf{y} = \\mathbf{X} \\times \\mathbf a\n",
    "\\end{equation}\n",
    "\n",
    "This is an exceedingly simple model for demo purposes only and thus the data that will be cretaed will have the following pre-determined values - \n",
    "\n",
    "```\n",
    "a = np.array([2, 3]).reshape((-1, 1))\n",
    "```\n",
    "\n",
    "Since $\\mathbf y$ and $\\mathbf X$ are related through this simple example, we can create a simple pyTorch model that will be able to predict the value of $\\mathbf a$. We know what we are trying to predict - the vector $[2,3]^T$"
   ]
  },
  {
   "cell_type": "code",
   "execution_count": 3,
   "id": "working-flesh",
   "metadata": {
    "ExecuteTime": {
     "end_time": "2021-03-01T13:29:32.266546Z",
     "start_time": "2021-03-01T13:29:32.260649Z"
    }
   },
   "outputs": [],
   "source": [
    "import numpy as np\n",
    "\n",
    "M, N = 2, 5000\n",
    "\n",
    "a = np.array([2, 3]).reshape((-1, 1))\n",
    "X = np.random.rand(N, M)\n",
    "y = X @ a + np.random.rand()"
   ]
  },
  {
   "cell_type": "markdown",
   "id": "cleared-launch",
   "metadata": {},
   "source": [
    "# Saving the data\n",
    "\n",
    "After calculating the data $\\mathbf X$ and $\\mathbf y$, we shall save the data within the S3 bucket - `sankha-test-data-folder`. This will be done outside of this code because we wish to be able to download the data directly form the S3 bucket through a shell script."
   ]
  },
  {
   "cell_type": "code",
   "execution_count": 6,
   "id": "romance-immune",
   "metadata": {
    "ExecuteTime": {
     "end_time": "2021-03-01T13:43:28.608916Z",
     "start_time": "2021-03-01T13:43:28.603357Z"
    }
   },
   "outputs": [],
   "source": [
    "import os\n",
    "\n",
    "os.makedirs('../../tempData', exist_ok=True)\n",
    "np.save( '../../tempData/y.npy' , y)\n",
    "np.save( '../../tempData/X.npy' , X)"
   ]
  },
  {
   "cell_type": "code",
   "execution_count": 7,
   "id": "checked-retro",
   "metadata": {
    "ExecuteTime": {
     "end_time": "2021-03-01T13:44:07.687144Z",
     "start_time": "2021-03-01T13:44:07.460054Z"
    }
   },
   "outputs": [
    {
     "name": "stdout",
     "output_type": "stream",
     "text": [
      "X.npy  y.npy\r\n"
     ]
    }
   ],
   "source": [
    "!ls ../../tempData"
   ]
  },
  {
   "cell_type": "markdown",
   "id": "animated-iraqi",
   "metadata": {},
   "source": [
    "## Push the data into the S3 bucket"
   ]
  },
  {
   "cell_type": "code",
   "execution_count": 11,
   "id": "driven-navigation",
   "metadata": {
    "ExecuteTime": {
     "end_time": "2021-03-01T13:49:24.246132Z",
     "start_time": "2021-03-01T13:49:23.266209Z"
    }
   },
   "outputs": [
    {
     "name": "stdout",
     "output_type": "stream",
     "text": [
      "2021-03-01 21:19:08 \u001b[01;31m\u001b[Ksankha\u001b[m\u001b[K-test-data-folder\r\n",
      "2021-03-01 21:18:27 \u001b[01;31m\u001b[Ksankha\u001b[m\u001b[K-test-models-folder\r\n"
     ]
    }
   ],
   "source": [
    "! aws s3 ls | grep sankha"
   ]
  },
  {
   "cell_type": "code",
   "execution_count": 21,
   "id": "recorded-merit",
   "metadata": {
    "ExecuteTime": {
     "end_time": "2021-03-01T13:52:45.405047Z",
     "start_time": "2021-03-01T13:52:44.652713Z"
    }
   },
   "outputs": [
    {
     "name": "stdout",
     "output_type": "stream",
     "text": [
      "Completed 78.2 KiB/117.4 KiB (809.3 KiB/s) with 2 file(s) remaining\r",
      "upload: ../../tempData/X.npy to s3://sankha-test-data-folder/X.npy \r\n",
      "Completed 78.2 KiB/117.4 KiB (809.3 KiB/s) with 1 file(s) remaining\r",
      "Completed 117.4 KiB/117.4 KiB (1002.0 KiB/s) with 1 file(s) remaining\r",
      "upload: ../../tempData/y.npy to s3://sankha-test-data-folder/y.npy   \r\n"
     ]
    }
   ],
   "source": [
    "!aws s3 cp ../../tempData s3://sankha-test-data-folder/ --recursive"
   ]
  },
  {
   "cell_type": "code",
   "execution_count": 22,
   "id": "negative-connecticut",
   "metadata": {
    "ExecuteTime": {
     "end_time": "2021-03-01T13:53:21.481857Z",
     "start_time": "2021-03-01T13:53:20.749455Z"
    }
   },
   "outputs": [
    {
     "name": "stdout",
     "output_type": "stream",
     "text": [
      "2021-03-01 21:52:46      80128 X.npy\r\n",
      "2021-03-01 21:52:46      40128 y.npy\r\n"
     ]
    }
   ],
   "source": [
    "!aws s3 ls sankha-test-data-folder"
   ]
  },
  {
   "cell_type": "code",
   "execution_count": null,
   "id": "resistant-redhead",
   "metadata": {},
   "outputs": [],
   "source": []
  }
 ],
 "metadata": {
  "hide_input": false,
  "kernelspec": {
   "display_name": "Python 3",
   "language": "python",
   "name": "python3"
  },
  "language_info": {
   "codemirror_mode": {
    "name": "ipython",
    "version": 3
   },
   "file_extension": ".py",
   "mimetype": "text/x-python",
   "name": "python",
   "nbconvert_exporter": "python",
   "pygments_lexer": "ipython3",
   "version": "3.8.5"
  },
  "toc": {
   "base_numbering": 1,
   "nav_menu": {},
   "number_sections": true,
   "sideBar": true,
   "skip_h1_title": false,
   "title_cell": "Table of Contents",
   "title_sidebar": "Contents",
   "toc_cell": false,
   "toc_position": {},
   "toc_section_display": true,
   "toc_window_display": false
  }
 },
 "nbformat": 4,
 "nbformat_minor": 5
}
